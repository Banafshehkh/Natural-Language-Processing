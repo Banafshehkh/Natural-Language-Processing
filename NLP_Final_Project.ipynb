{
  "nbformat": 4,
  "nbformat_minor": 0,
  "metadata": {
    "colab": {
      "provenance": [],
      "authorship_tag": "ABX9TyMHYFVmH7zj2wptxWXAmX/z",
      "include_colab_link": true
    },
    "kernelspec": {
      "name": "python3",
      "display_name": "Python 3"
    },
    "language_info": {
      "name": "python"
    }
  },
  "cells": [
    {
      "cell_type": "markdown",
      "metadata": {
        "id": "view-in-github",
        "colab_type": "text"
      },
      "source": [
        "<a href=\"https://colab.research.google.com/github/Banafshehkh/Natural-Language-Processing/blob/main/NLP_Final_Project.ipynb\" target=\"_parent\"><img src=\"https://colab.research.google.com/assets/colab-badge.svg\" alt=\"Open In Colab\"/></a>"
      ]
    },
    {
      "cell_type": "code",
      "source": [
        "# Author: Banafsheh Khazali\n",
        "# Date: March 01, 2023"
      ],
      "metadata": {
        "id": "GkGUoYtjiypU"
      },
      "execution_count": 1,
      "outputs": []
    },
    {
      "cell_type": "markdown",
      "source": [
        "# **Semantic Text Similarity on Medical Symptoms** \n"
      ],
      "metadata": {
        "id": "nuXfpHocixuW"
      }
    },
    {
      "cell_type": "code",
      "source": [
        "import nltk\n",
        "nltk.download('omw-1.4')"
      ],
      "metadata": {
        "colab": {
          "base_uri": "https://localhost:8080/"
        },
        "id": "FhPj0YJ2z-g5",
        "outputId": "1f24cd27-24fe-4d53-cfc5-d3de7335e385"
      },
      "execution_count": 1,
      "outputs": [
        {
          "output_type": "stream",
          "name": "stderr",
          "text": [
            "[nltk_data] Downloading package omw-1.4 to /root/nltk_data...\n"
          ]
        },
        {
          "output_type": "execute_result",
          "data": {
            "text/plain": [
              "True"
            ]
          },
          "metadata": {},
          "execution_count": 1
        }
      ]
    },
    {
      "cell_type": "code",
      "source": [
        "import requests\n",
        "from bs4 import BeautifulSoup\n",
        "\n",
        "import nltk\n",
        "from nltk.tokenize import word_tokenize\n",
        "from nltk.corpus import stopwords\n",
        "from nltk.stem import WordNetLemmatizer\n",
        "\n",
        "import os\n",
        "import csv\n",
        "\n",
        "from sklearn.feature_extraction.text import TfidfVectorizer\n",
        "from sklearn.metrics.pairwise import cosine_similarity\n",
        "\n",
        "import seaborn as sns\n",
        "import matplotlib.pyplot as plt\n",
        "from scipy.cluster import hierarchy"
      ],
      "metadata": {
        "id": "pI24xlZBjYwv"
      },
      "execution_count": 2,
      "outputs": []
    },
    {
      "cell_type": "markdown",
      "source": [
        "## **Scraping the data**"
      ],
      "metadata": {
        "id": "xFj_c5wfjGbX"
      }
    },
    {
      "cell_type": "markdown",
      "source": [
        "To scrape the data, We can use Python libraries such as BeautifulSoup and requests. \n",
        "\n"
      ],
      "metadata": {
        "id": "CeDUclrHjQkE"
      }
    },
    {
      "cell_type": "code",
      "source": [
        "# Define the URL of the symptom checker page\n",
        "url = 'https://www.mayoclinic.org/symptom-checker/select-symptom/itt-20009075'\n",
        "\n",
        "# Send a GET request to the URL\n",
        "response = requests.get(url)\n",
        "\n",
        "# Parse the HTML content of the response using BeautifulSoup\n",
        "soup = BeautifulSoup(response.content, 'html.parser')\n",
        "\n",
        "# Find the section of the page that contains adult symptoms\n",
        "adult_symptoms_section = soup.find('div', {'class': 'adult'})\n",
        "# Check that the adult symptoms section was found\n",
        "if adult_symptoms_section:\n",
        "    # Find all links within the adult symptoms section\n",
        "    adult_symptom_links = adult_symptoms_section.find_all('a', href=True)\n",
        "\n",
        "    # Extract the URLs from the links\n",
        "    adult_symptom_urls = [link['href'] for link in adult_symptom_links]\n",
        "\n",
        "    \n",
        "\n",
        "\n",
        "# Find the section of the page that contains child symptoms\n",
        "child_symptoms_section = soup.find('div', {'class': 'child'})\n",
        "\n",
        "# Check that the child symptoms section was found\n",
        "if child_symptoms_section:\n",
        "    # Find all links within the child symptoms section\n",
        "    child_symptom_links = child_symptoms_section.find_all('a', href=True)\n",
        "\n",
        "    # Extract the URLs from the links\n",
        "    child_symptom_urls = [link['href'] for link in child_symptom_links]\n",
        "\n",
        "\n",
        "\n",
        "# Print the URLs for the adult symptoms\n",
        "full_adult_url = []\n",
        "for i in adult_symptom_urls:\n",
        "  full_adult_url.append(\"https://www.mayoclinic.org/\"+i)\n",
        "\n",
        "print('\\nAdult Symptom URLs:', full_adult_url)\n",
        "\n",
        "# Print the URLs for the child symptoms\n",
        "full_child_urls = []\n",
        "for i in child_symptom_urls:\n",
        "  full_child_urls.append(\"https://www.mayoclinic.org/\"+i)\n",
        "\n",
        "print('\\nChild Symptom URLs:', full_child_urls)\n"
      ],
      "metadata": {
        "colab": {
          "base_uri": "https://localhost:8080/"
        },
        "id": "3XoWmDF26joS",
        "outputId": "d69fec8d-1ba1-46f5-90f5-dc3b30a663a7"
      },
      "execution_count": 3,
      "outputs": [
        {
          "output_type": "stream",
          "name": "stdout",
          "text": [
            "\n",
            "Adult Symptom URLs: ['https://www.mayoclinic.org//symptom-checker/abdominal-pain-in-adults-adult/related-factors/itt-20009075', 'https://www.mayoclinic.org//symptom-checker/blood-in-stool-in-adults-adult/related-factors/itt-20009075', 'https://www.mayoclinic.org//symptom-checker/chest-pain-in-adults-adult/related-factors/itt-20009075', 'https://www.mayoclinic.org//symptom-checker/constipation-in-adults-adult/related-factors/itt-20009075', 'https://www.mayoclinic.org//symptom-checker/cough-in-adults-adult/related-factors/itt-20009075', 'https://www.mayoclinic.org//symptom-checker/diarrhea-in-adults-adult/related-factors/itt-20009075', 'https://www.mayoclinic.org//symptom-checker/difficulty-swallowing-in-adults-adult/related-factors/itt-20009075', 'https://www.mayoclinic.org//symptom-checker/dizziness-in-adults-adult/related-factors/itt-20009075', 'https://www.mayoclinic.org//symptom-checker/eye-discomfort-and-redness-in-adults-adult/related-factors/itt-20009075', 'https://www.mayoclinic.org//symptom-checker/eye-problems-in-adults-adult/related-factors/itt-20009075', 'https://www.mayoclinic.org//symptom-checker/foot-pain-or-ankle-pain-in-adults-adult/related-factors/itt-20009075', 'https://www.mayoclinic.org//symptom-checker/foot-swelling-or-leg-swelling-in-adults-adult/related-factors/itt-20009075', 'https://www.mayoclinic.org//symptom-checker/headaches-in-adults-adult/related-factors/itt-20009075', 'https://www.mayoclinic.org//symptom-checker/heart-palpitations-in-adults-adult/related-factors/itt-20009075', 'https://www.mayoclinic.org//symptom-checker/hip-pain-in-adults-adult/related-factors/itt-20009075', 'https://www.mayoclinic.org//symptom-checker/knee-pain-in-adults-adult/related-factors/itt-20009075', 'https://www.mayoclinic.org//symptom-checker/low-back-pain-in-adults-adult/related-factors/itt-20009075', 'https://www.mayoclinic.org//symptom-checker/nasal-congestion-in-adults-adult/related-factors/itt-20009075', 'https://www.mayoclinic.org//symptom-checker/nausea-or-vomiting-in-adults-adult/related-factors/itt-20009075', 'https://www.mayoclinic.org//symptom-checker/neck-pain-in-adults-adult/related-factors/itt-20009075', 'https://www.mayoclinic.org//symptom-checker/numbness-or-tingling-in-hands-in-adults-adult/related-factors/itt-20009075', 'https://www.mayoclinic.org//symptom-checker/pelvic-pain-in-adult-females-adult/related-factors/itt-20009075', 'https://www.mayoclinic.org//symptom-checker/pelvic-pain-in-adult-males-adult/related-factors/itt-20009075', 'https://www.mayoclinic.org//symptom-checker/shortness-of-breath-in-adults-adult/related-factors/itt-20009075', 'https://www.mayoclinic.org//symptom-checker/shoulder-pain-in-adults-adult/related-factors/itt-20009075', 'https://www.mayoclinic.org//symptom-checker/sore-throat-in-adults-adult/related-factors/itt-20009075', 'https://www.mayoclinic.org//symptom-checker/urinary-problems-in-adults-adult/related-factors/itt-20009075', 'https://www.mayoclinic.org//symptom-checker/wheezing-in-adults-adult/related-factors/itt-20009075']\n",
            "\n",
            "Child Symptom URLs: ['https://www.mayoclinic.org//symptom-checker/abdominal-pain-in-children-child/related-factors/itt-20009075', 'https://www.mayoclinic.org//symptom-checker/constipation-in-children-child/related-factors/itt-20009075', 'https://www.mayoclinic.org//symptom-checker/cough-in-children-child/related-factors/itt-20009075', 'https://www.mayoclinic.org//symptom-checker/diarrhea-in-children-child/related-factors/itt-20009075', 'https://www.mayoclinic.org//symptom-checker/ear-problems-in-children-child/related-factors/itt-20009075', 'https://www.mayoclinic.org//symptom-checker/earache-in-children-child/related-factors/itt-20009075', 'https://www.mayoclinic.org//symptom-checker/eye-discomfort-and-redness-in-children-child/related-factors/itt-20009075', 'https://www.mayoclinic.org//symptom-checker/eye-problems-in-children-child/related-factors/itt-20009075', 'https://www.mayoclinic.org//symptom-checker/fever-in-children-child/related-factors/itt-20009075', 'https://www.mayoclinic.org//symptom-checker/headaches-in-children-child/related-factors/itt-20009075', 'https://www.mayoclinic.org//symptom-checker/joint-pain-or-muscle-pain-in-children-child/related-factors/itt-20009075', 'https://www.mayoclinic.org//symptom-checker/nasal-congestion-in-children-child/related-factors/itt-20009075', 'https://www.mayoclinic.org//symptom-checker/nausea-or-vomiting-in-children-child/related-factors/itt-20009075', 'https://www.mayoclinic.org//symptom-checker/skin-rashes-in-children-child/related-factors/itt-20009075', 'https://www.mayoclinic.org//symptom-checker/sore-throat-in-children-child/related-factors/itt-20009075', 'https://www.mayoclinic.org//symptom-checker/urinary-problems-in-children-child/related-factors/itt-20009075', 'https://www.mayoclinic.org//symptom-checker/wheezing-in-children-child/related-factors/itt-20009075']\n"
          ]
        }
      ]
    },
    {
      "cell_type": "code",
      "source": [
        "!mkdir corpus"
      ],
      "metadata": {
        "id": "SC9ODCOgD_yr"
      },
      "execution_count": 4,
      "outputs": []
    },
    {
      "cell_type": "markdown",
      "source": [
        "**extract adult symptoms**"
      ],
      "metadata": {
        "id": "Ub5SRHtkmyK5"
      }
    },
    {
      "cell_type": "code",
      "source": [
        "# Loop over the URLs and extract the relevant information\n",
        "for i, url in enumerate(full_adult_url):\n",
        "    response = requests.get(url)\n",
        "    soup = BeautifulSoup(response.content, 'html.parser')\n",
        "    adult_symptoms_section = soup.find('div', {'id': 'main-content'})\n",
        "    \n",
        "    if adult_symptoms_section is not None:\n",
        "        filename = f'adult_page{i+1}.txt'\n",
        "        with open(f\"/content/corpus/{filename}\", 'w') as f:\n",
        "            f.write(adult_symptoms_section.text)\n",
        "    else:\n",
        "        print(f\"No 'adult' section found on page {i+1}\")"
      ],
      "metadata": {
        "colab": {
          "base_uri": "https://localhost:8080/"
        },
        "id": "Y2BQivmGqvsz",
        "outputId": "cf558f76-d40e-42f5-8e13-464846015757"
      },
      "execution_count": 5,
      "outputs": [
        {
          "output_type": "stream",
          "name": "stdout",
          "text": [
            "No 'adult' section found on page 25\n"
          ]
        }
      ]
    },
    {
      "cell_type": "markdown",
      "source": [
        "**extract children symptoms**"
      ],
      "metadata": {
        "id": "iONWhbfdm3vw"
      }
    },
    {
      "cell_type": "code",
      "source": [
        "# Loop over the URLs and extract the relevant information\n",
        "for i, url in enumerate(full_child_urls):\n",
        "    response = requests.get(url)\n",
        "    soup = BeautifulSoup(response.content, 'html.parser')\n",
        "    child_symptoms_section = soup.find('div', {'id': 'main-content'})\n",
        "    \n",
        "    if child_symptoms_section is not None:\n",
        "        filename = f'child_page{i+1}.txt'\n",
        "        with open(f\"/content/corpus/{filename}\", 'w') as f:\n",
        "            f.write(child_symptoms_section.text)\n",
        "    else:\n",
        "        print(f\"No 'child' section found on page {i+1}\")"
      ],
      "metadata": {
        "colab": {
          "base_uri": "https://localhost:8080/"
        },
        "id": "ulFQYs1Gsj8d",
        "outputId": "61420577-90bd-43f5-8d81-f07f5fbadf3f"
      },
      "execution_count": 6,
      "outputs": [
        {
          "output_type": "stream",
          "name": "stdout",
          "text": [
            "No 'child' section found on page 2\n",
            "No 'child' section found on page 3\n",
            "No 'child' section found on page 7\n",
            "No 'child' section found on page 16\n"
          ]
        }
      ]
    },
    {
      "cell_type": "markdown",
      "source": [
        "## **Preprocessing the data**"
      ],
      "metadata": {
        "id": "CTzoSVMRkDLl"
      }
    },
    {
      "cell_type": "markdown",
      "source": [
        "To preprocess the data, We may need to clean and tokenize the text, remove stop words, and perform stemming or lemmatization."
      ],
      "metadata": {
        "id": "qIeSnso4kLWz"
      }
    },
    {
      "cell_type": "code",
      "source": [
        "!mkdir pre_corpus"
      ],
      "metadata": {
        "id": "mmVMGeM2xvUV"
      },
      "execution_count": 9,
      "outputs": []
    },
    {
      "cell_type": "markdown",
      "source": [
        "**Preprocess adult/child files**"
      ],
      "metadata": {
        "id": "FWEUTCuJ2TUk"
      }
    },
    {
      "cell_type": "code",
      "source": [
        "nltk.download('stopwords')\n",
        "nltk.download('punkt')\n",
        "nltk.download('wordnet')\n",
        "\n",
        "stop_words = set(stopwords.words('english'))\n",
        "lemmatizer = WordNetLemmatizer()\n",
        "\n",
        "def preprocess(text):\n",
        "    # Tokenize the text\n",
        "    tokens = word_tokenize(text.lower())\n",
        "    \n",
        "    # Remove stop words\n",
        "    filtered_tokens = [token for token in tokens if token not in stop_words]\n",
        "    \n",
        "    # Lemmatize the tokens\n",
        "    lemmatized_tokens = [lemmatizer.lemmatize(token) for token in filtered_tokens]\n",
        "    \n",
        "    return lemmatized_tokens\n",
        "\n",
        "# Define the directory where the text files are located\n",
        "corpus_dir_in = '/content/corpus'\n",
        "corpus_dir_out = '/content/pre_corpus'\n",
        "\n",
        "# Create the output directory if it doesn't exist\n",
        "if not os.path.exists(corpus_dir_out):\n",
        "    os.makedirs(corpus_dir_out)\n",
        "\n",
        "\n",
        "# Loop over the input files\n",
        "for filename in os.listdir(corpus_dir_in):\n",
        "    if filename.endswith('.txt'):\n",
        "        # Read the input file\n",
        "        with open(os.path.join(corpus_dir_in, filename), 'r') as f:\n",
        "            text = f.read()\n",
        "        \n",
        "        # Preprocess the text\n",
        "        tokens = word_tokenize(text.lower())\n",
        "        filtered_tokens = [token for token in tokens if token not in stop_words]\n",
        "        lemmatized_tokens = [lemmatizer.lemmatize(token) for token in filtered_tokens]\n",
        "        preprocessed_text = ' '.join(lemmatized_tokens)\n",
        "        \n",
        "        # Write the preprocessed text to a new file\n",
        "        output_filename = os.path.join(corpus_dir_out, filename)\n",
        "        with open(output_filename, 'w') as f:\n",
        "            f.write(preprocessed_text)\n",
        "            \n",
        "        print(f'Processed file: {filename}')"
      ],
      "metadata": {
        "colab": {
          "base_uri": "https://localhost:8080/"
        },
        "id": "bDdJkIc5xfBc",
        "outputId": "355da0cb-0983-409e-c0c6-a2eac0b6de0b"
      },
      "execution_count": 10,
      "outputs": [
        {
          "output_type": "stream",
          "name": "stderr",
          "text": [
            "[nltk_data] Downloading package stopwords to /root/nltk_data...\n",
            "[nltk_data]   Unzipping corpora/stopwords.zip.\n",
            "[nltk_data] Downloading package punkt to /root/nltk_data...\n",
            "[nltk_data]   Unzipping tokenizers/punkt.zip.\n",
            "[nltk_data] Downloading package wordnet to /root/nltk_data...\n"
          ]
        },
        {
          "output_type": "stream",
          "name": "stdout",
          "text": [
            "Processed file: adult_page22.txt\n",
            "Processed file: adult_page6.txt\n",
            "Processed file: child_page17.txt\n",
            "Processed file: child_page4.txt\n",
            "Processed file: adult_page19.txt\n",
            "Processed file: adult_page11.txt\n",
            "Processed file: adult_page5.txt\n",
            "Processed file: child_page9.txt\n",
            "Processed file: adult_page9.txt\n",
            "Processed file: child_page5.txt\n",
            "Processed file: adult_page27.txt\n",
            "Processed file: child_page11.txt\n",
            "Processed file: child_page6.txt\n",
            "Processed file: adult_page15.txt\n",
            "Processed file: child_page12.txt\n",
            "Processed file: adult_page10.txt\n",
            "Processed file: child_page8.txt\n",
            "Processed file: adult_page17.txt\n",
            "Processed file: adult_page1.txt\n",
            "Processed file: adult_page24.txt\n",
            "Processed file: adult_page20.txt\n",
            "Processed file: adult_page8.txt\n",
            "Processed file: adult_page3.txt\n",
            "Processed file: adult_page26.txt\n",
            "Processed file: child_page15.txt\n",
            "Processed file: adult_page2.txt\n",
            "Processed file: adult_page14.txt\n",
            "Processed file: adult_page12.txt\n",
            "Processed file: adult_page23.txt\n",
            "Processed file: adult_page21.txt\n",
            "Processed file: adult_page18.txt\n",
            "Processed file: adult_page4.txt\n",
            "Processed file: child_page10.txt\n",
            "Processed file: adult_page16.txt\n",
            "Processed file: adult_page7.txt\n",
            "Processed file: child_page13.txt\n",
            "Processed file: adult_page28.txt\n",
            "Processed file: adult_page13.txt\n",
            "Processed file: child_page14.txt\n",
            "Processed file: child_page1.txt\n"
          ]
        }
      ]
    },
    {
      "cell_type": "markdown",
      "source": [
        "## **Calculating the similarity**"
      ],
      "metadata": {
        "id": "zqBTx8yHkZcu"
      }
    },
    {
      "cell_type": "markdown",
      "source": [
        "Calculate the similarity between the two document-term matrices using a similarity metric such as cosine similarity or Jaccard similarity."
      ],
      "metadata": {
        "id": "LhtNAXb88Rtm"
      }
    },
    {
      "cell_type": "code",
      "source": [
        "# Define directory path containing text files\n",
        "dir_path = '/content/pre_corpus'\n",
        "\n",
        "# Get all text files in directory\n",
        "file_names = [f for f in os.listdir(dir_path) if f.endswith('.txt')]\n",
        "\n",
        "# Read contents of each text file and store in a list\n",
        "corpus = []\n",
        "for file_name in file_names:\n",
        "    with open(os.path.join(dir_path, file_name), 'r') as f:\n",
        "        text = f.read()\n",
        "        corpus.append(text)\n",
        "\n",
        "# Calculate TF-IDF matrix\n",
        "vectorizer = TfidfVectorizer()\n",
        "tfidf_matrix = vectorizer.fit_transform(corpus)\n",
        "\n",
        "# Compute cosine similarity between all documents\n",
        "similarity_matrix = cosine_similarity(tfidf_matrix)\n",
        "\n",
        "# Print similarity matrix.                                                                                                                                                                                                                                                                                     \n",
        "print(similarity_matrix)"
      ],
      "metadata": {
        "id": "WOHGHGa6zwlZ",
        "colab": {
          "base_uri": "https://localhost:8080/"
        },
        "outputId": "d00570c2-f9dd-4ab4-d9b3-74edbf49c14e"
      },
      "execution_count": 11,
      "outputs": [
        {
          "output_type": "stream",
          "name": "stdout",
          "text": [
            "[[1.         0.79748944 0.67649975 ... 0.6631597  0.64647224 0.76129345]\n",
            " [0.79748944 1.         0.7468514  ... 0.72136286 0.69851629 0.87122181]\n",
            " [0.67649975 0.7468514  1.         ... 0.63580655 0.63506427 0.71799372]\n",
            " ...\n",
            " [0.6631597  0.72136286 0.63580655 ... 1.         0.60804798 0.69976572]\n",
            " [0.64647224 0.69851629 0.63506427 ... 0.60804798 1.         0.66549192]\n",
            " [0.76129345 0.87122181 0.71799372 ... 0.69976572 0.66549192 1.        ]]\n"
          ]
        }
      ]
    },
    {
      "cell_type": "markdown",
      "source": [
        "##  Visualize the similarity results using a heatmap or a dendrogram"
      ],
      "metadata": {
        "id": "tsIZ_bDgCWps"
      }
    },
    {
      "cell_type": "code",
      "source": [
        "# Create heatmap\n",
        "sns.set(font_scale=1.2)\n",
        "sns.heatmap(similarity_matrix, cmap='YlOrRd', xticklabels=False, yticklabels=False)\n",
        "plt.title('Similarity Heatmap')\n",
        "plt.show()\n",
        "\n",
        "# Create dendrogram\n",
        "plt.figure(figsize=(10, 7))\n",
        "dendrogram = hierarchy.dendrogram(hierarchy.linkage(similarity_matrix, method='ward'))\n",
        "plt.title('Dendrogram')\n",
        "plt.xlabel('Documents')\n",
        "plt.ylabel('Distance')\n",
        "plt.show()"
      ],
      "metadata": {
        "colab": {
          "base_uri": "https://localhost:8080/",
          "height": 718
        },
        "id": "Wub90Shc9yoz",
        "outputId": "329032fd-6317-4207-9306-63b46da2878b"
      },
      "execution_count": 12,
      "outputs": [
        {
          "output_type": "display_data",
          "data": {
            "text/plain": [
              "<Figure size 432x288 with 2 Axes>"
            ],
            "image/png": "[encoded data removed]"
          },
          "metadata": {}
        },
        {
          "output_type": "display_data",
          "data": {
            "text/plain": [
              "<Figure size 720x504 with 1 Axes>"
            ],
            "image/png": "[encoded data removed]"
          },
          "metadata": {}
        }
      ]
    },
    {
      "cell_type": "code",
      "source": [],
      "metadata": {
        "id": "BRLiZ1hqCgky"
      },
      "execution_count": 12,
      "outputs": []
    }
  ]
}